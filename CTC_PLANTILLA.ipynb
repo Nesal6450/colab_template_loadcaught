{
  "nbformat": 4,
  "nbformat_minor": 0,
  "metadata": {
    "colab": {
      "provenance": [],
      "authorship_tag": "ABX9TyPQQ/7VhBZTuJSRZyFu+yKs",
      "include_colab_link": true
    },
    "kernelspec": {
      "name": "python3",
      "display_name": "Python 3"
    },
    "language_info": {
      "name": "python"
    }
  },
  "cells": [
    {
      "cell_type": "markdown",
      "metadata": {
        "id": "view-in-github",
        "colab_type": "text"
      },
      "source": [
        "<a href=\"https://colab.research.google.com/github/Nesal6450/colab_template_loadcaught/blob/main/CTC_PLANTILLA.ipynb\" target=\"_parent\"><img src=\"https://colab.research.google.com/assets/colab-badge.svg\" alt=\"Open In Colab\"/></a>"
      ]
    },
    {
      "cell_type": "code",
      "execution_count": null,
      "metadata": {
        "colab": {
          "base_uri": "https://localhost:8080/"
        },
        "id": "-JuyCmlKC-VX",
        "outputId": "708e8c79-6f25-48ca-b47b-524dc4cc579d"
      },
      "outputs": [
        {
          "output_type": "stream",
          "name": "stdout",
          "text": [
            "Looking in indexes: https://pypi.org/simple, https://us-python.pkg.dev/colab-wheels/public/simple/\n",
            "Requirement already satisfied: pandas in /usr/local/lib/python3.10/dist-packages (1.5.3)\n",
            "Requirement already satisfied: python-dateutil>=2.8.1 in /usr/local/lib/python3.10/dist-packages (from pandas) (2.8.2)\n",
            "Requirement already satisfied: pytz>=2020.1 in /usr/local/lib/python3.10/dist-packages (from pandas) (2022.7.1)\n",
            "Requirement already satisfied: numpy>=1.21.0 in /usr/local/lib/python3.10/dist-packages (from pandas) (1.22.4)\n",
            "Requirement already satisfied: six>=1.5 in /usr/local/lib/python3.10/dist-packages (from python-dateutil>=2.8.1->pandas) (1.16.0)\n"
          ]
        }
      ],
      "source": [
        "pip install pandas"
      ]
    },
    {
      "cell_type": "code",
      "source": [
        "import pandas as pd\n",
        "import matplotlib.pyplot as plt\n",
        "import numpy as np\n",
        "\n",
        "%matplotlib inline"
      ],
      "metadata": {
        "id": "dRdjG1kQFwtB"
      },
      "execution_count": null,
      "outputs": []
    },
    {
      "cell_type": "code",
      "source": [
        "# Read the Excel document into a pandas DataFrame\n",
        "data = pd.read_excel('/content/sample_data/pandas_test.xlsx')\n",
        "\n",
        "# Display the current column order\n",
        "print(\"Current column order:\")\n",
        "print(data.columns.tolist())\n",
        "\n",
        "#Drop de marca temporal\n",
        "data = data.drop(columns=['Marca temporal'])\n",
        "\n",
        "#Orden de las columnas\n",
        "\"\"\"data['A']=data['Nombre del Tutor / Representante']\n",
        "data['B']=''\n",
        "data['C']=data['Rol del Tutor / Representante (i.e Padre, Madre, Abuelo)']\n",
        "data['D']=data['Correo electronico del Tutor / Representante']\n",
        "data['E']=data['Pais']\n",
        "data['F']=data['Tipo de documento del Tutor / Representante']\n",
        "data['G']=data['Numero de documento del Tutor / Representante']\n",
        "data['H']=''\n",
        "data['I']=''\n",
        "data['J']=''\n",
        "data['K']=data['Nombre del estudiante']\n",
        "data['L']=''\n",
        "data['M']=data['Genero del estudiante']\n",
        "data['N']=data['Fecha de nacimiento del estudiante']\n",
        "data['O']=data['Sistema operativo del estudiante']\n",
        "data['P']=data['El estudiante cuenta con experiencia previa usando computador / tablet?']\n",
        "data['Q']=''\n",
        "data['R']=''\n",
        "data['S']=''\n",
        "data['T']=''\n",
        "data['U']=''\n",
        "data['V']=''\n",
        "data['W']=''\n",
        "data['X']=''\n",
        "data['Y']=''\n",
        "data['Z']=''\"\"\"\n",
        "\n",
        "#Orden de la plantilla\n",
        "data['First Name']=data['Nombre del Tutor / Representante']\n",
        "data['Last Name']=''\n",
        "data['Rol']=data['Rol del Tutor / Representante (i.e Padre, Madre, Abuelo)']\n",
        "data['Email']=data['Correo electronico del Tutor / Representante']\n",
        "data['IP Country']=data['Pais']\n",
        "data['Tipo de documento']=data['Tipo de documento del Tutor / Representante']\n",
        "data['Número de documento']=data['Numero de documento del Tutor / Representante']\n",
        "data['H']=''\n",
        "data['I']=''\n",
        "data['J']=''\n",
        "data['Nombre estudiante']=data['Nombre del estudiante']\n",
        "data['Apellidos estudiante']=''\n",
        "data['Género']=data['Genero del estudiante']\n",
        "data['Fecha de nacimiento estudiante']=data['Fecha de nacimiento del estudiante']\n",
        "data['Sistema operativo']=data['Sistema operativo del estudiante']\n",
        "data['Experiencia usando PC o tablet']=data['El estudiante cuenta con experiencia previa usando computador / tablet?']\n",
        "data['Tipo de compra']=''\n",
        "data['Variacion']=''\n",
        "data['Nombre de Ruta']=''\n",
        "data['Curso']=''\n",
        "data['Fecha de inicio']=''\n",
        "data['Fecha de fin']=''\n",
        "data['Hora de inicio']=''\n",
        "data['Group ID']=''\n",
        "data['Group Name']=''\n",
        "data['Contact ID']=''\n",
        "\n",
        "# Display the new column order\n",
        "print(\"New column order:\")\n",
        "nuevo=data.iloc[:, -26:].columns.tolist()\n",
        "print(nuevo)\n",
        "\n",
        "df = data[nuevo]\n",
        "\n",
        "# Guardar el DataFrame en un archivo Excel\n",
        "nombre_archivo = \"final.xlsx\"\n",
        "df.to_excel(nombre_archivo, index=False)\n",
        "\n",
        "print(\"Excel document with the modified column order has been saved.\")\n"
      ],
      "metadata": {
        "colab": {
          "base_uri": "https://localhost:8080/"
        },
        "id": "LxAKchYHDHAP",
        "outputId": "079f50fa-785d-438c-809c-fb2d07f946a6"
      },
      "execution_count": null,
      "outputs": [
        {
          "output_type": "stream",
          "name": "stdout",
          "text": [
            "Current column order:\n",
            "['Marca temporal', 'Nombre del Tutor / Representante', 'Rol del Tutor / Representante (i.e Padre, Madre, Abuelo)', 'Correo electronico del Tutor / Representante', 'Pais', 'Estado', 'Tipo de documento del Tutor / Representante', 'Numero de documento del Tutor / Representante', 'Nombre del estudiante', 'Genero del estudiante', 'Fecha de nacimiento del estudiante', 'Sistema operativo del estudiante', 'El estudiante cuenta con experiencia previa usando computador / tablet?', 'Ruta que adquiere el cliente', 'Fecha de Inicio de Ruta', 'Hora de Inicio de Ruta']\n",
            "New column order:\n",
            "['First Name', 'Last Name', 'Rol', 'Email', 'IP Country', 'Tipo de documento', 'Número de documento', 'H', 'I', 'J', 'Nombre estudiante', 'Apellidos estudiante', 'Género', 'Fecha de nacimiento estudiante', 'Sistema operativo', 'Experiencia usando PC o tablet', 'Tipo de compra', 'Variacion', 'Nombre de Ruta', 'Curso', 'Fecha de inicio', 'Fecha de fin', 'Hora de inicio', 'Group ID', 'Group Name', 'Contact ID']\n",
            "Excel document with the modified column order has been saved.\n"
          ]
        }
      ]
    }
  ]
}